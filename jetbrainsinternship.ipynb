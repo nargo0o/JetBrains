{
 "cells": [
  {
   "cell_type": "code",
   "execution_count": 1,
   "metadata": {
    "id": "dkEv5SPBSHVo"
   },
   "outputs": [],
   "source": [
    "import pandas as pd\n",
    "import numpy as np\n",
    "import seaborn as sb\n",
    "\n",
    "from sklearn.linear_model import LinearRegression\n",
    "from sklearn.ensemble import GradientBoostingRegressor\n",
    "from sklearn.ensemble import RandomForestRegressor\n",
    "from sklearn.metrics import r2_score\n",
    "from sklearn.model_selection import train_test_split\n",
    "\n",
    "path = 'data/predict.csv'"
   ]
  },
  {
   "cell_type": "code",
   "execution_count": 2,
   "metadata": {
    "id": "y-fjf6UUYwZm"
   },
   "outputs": [],
   "source": [
    "DATA = pd.read_csv(path)"
   ]
  },
  {
   "cell_type": "code",
   "execution_count": 3,
   "metadata": {
    "colab": {
     "base_uri": "https://localhost:8080/",
     "height": 439
    },
    "id": "7ZDFdZdZvacd",
    "outputId": "16571dc6-15a6-4431-c936-d43ba474b570"
   },
   "outputs": [
    {
     "data": {
      "text/html": [
       "<div>\n",
       "<style scoped>\n",
       "    .dataframe tbody tr th:only-of-type {\n",
       "        vertical-align: middle;\n",
       "    }\n",
       "\n",
       "    .dataframe tbody tr th {\n",
       "        vertical-align: top;\n",
       "    }\n",
       "\n",
       "    .dataframe thead th {\n",
       "        text-align: right;\n",
       "    }\n",
       "</style>\n",
       "<table border=\"1\" class=\"dataframe\">\n",
       "  <thead>\n",
       "    <tr style=\"text-align: right;\">\n",
       "      <th></th>\n",
       "      <th>recency</th>\n",
       "      <th>topic_rank</th>\n",
       "      <th>diversity</th>\n",
       "      <th>authors_mean_rank</th>\n",
       "      <th>authors_mean_hindex</th>\n",
       "      <th>authors_mean_gindex</th>\n",
       "      <th>authors_mean_sociality</th>\n",
       "      <th>authors_mean_pagerank</th>\n",
       "      <th>authors_mean_productivity</th>\n",
       "      <th>journal_pagerank</th>\n",
       "      <th>journal_rank</th>\n",
       "      <th>title_len</th>\n",
       "      <th>abstract_len</th>\n",
       "      <th>n_authors</th>\n",
       "      <th>c5</th>\n",
       "      <th>log_authors_mean_sociality</th>\n",
       "    </tr>\n",
       "  </thead>\n",
       "  <tbody>\n",
       "    <tr>\n",
       "      <th>0</th>\n",
       "      <td>16</td>\n",
       "      <td>1.0</td>\n",
       "      <td>-0.425436</td>\n",
       "      <td>500.0</td>\n",
       "      <td>1.0</td>\n",
       "      <td>1.0</td>\n",
       "      <td>6.0</td>\n",
       "      <td>NaN</td>\n",
       "      <td>NaN</td>\n",
       "      <td>NaN</td>\n",
       "      <td>101.0</td>\n",
       "      <td>66</td>\n",
       "      <td>1653</td>\n",
       "      <td>7</td>\n",
       "      <td>1.0</td>\n",
       "      <td>1.945910</td>\n",
       "    </tr>\n",
       "    <tr>\n",
       "      <th>1</th>\n",
       "      <td>8</td>\n",
       "      <td>7.0</td>\n",
       "      <td>-0.571967</td>\n",
       "      <td>134.0</td>\n",
       "      <td>1.0</td>\n",
       "      <td>1.0</td>\n",
       "      <td>6.0</td>\n",
       "      <td>NaN</td>\n",
       "      <td>NaN</td>\n",
       "      <td>NaN</td>\n",
       "      <td>24.0</td>\n",
       "      <td>59</td>\n",
       "      <td>1527</td>\n",
       "      <td>7</td>\n",
       "      <td>32.0</td>\n",
       "      <td>1.945910</td>\n",
       "    </tr>\n",
       "    <tr>\n",
       "      <th>2</th>\n",
       "      <td>15</td>\n",
       "      <td>19.0</td>\n",
       "      <td>-0.859644</td>\n",
       "      <td>235.0</td>\n",
       "      <td>1.0</td>\n",
       "      <td>1.0</td>\n",
       "      <td>5.0</td>\n",
       "      <td>NaN</td>\n",
       "      <td>NaN</td>\n",
       "      <td>NaN</td>\n",
       "      <td>49.0</td>\n",
       "      <td>169</td>\n",
       "      <td>1554</td>\n",
       "      <td>6</td>\n",
       "      <td>5.0</td>\n",
       "      <td>1.791759</td>\n",
       "    </tr>\n",
       "    <tr>\n",
       "      <th>3</th>\n",
       "      <td>6</td>\n",
       "      <td>4.0</td>\n",
       "      <td>-1.054999</td>\n",
       "      <td>1124.0</td>\n",
       "      <td>1.0</td>\n",
       "      <td>1.0</td>\n",
       "      <td>10.0</td>\n",
       "      <td>NaN</td>\n",
       "      <td>NaN</td>\n",
       "      <td>NaN</td>\n",
       "      <td>185.0</td>\n",
       "      <td>130</td>\n",
       "      <td>2121</td>\n",
       "      <td>11</td>\n",
       "      <td>7.0</td>\n",
       "      <td>2.397895</td>\n",
       "    </tr>\n",
       "    <tr>\n",
       "      <th>4</th>\n",
       "      <td>14</td>\n",
       "      <td>2.0</td>\n",
       "      <td>-0.476697</td>\n",
       "      <td>346.0</td>\n",
       "      <td>1.0</td>\n",
       "      <td>1.0</td>\n",
       "      <td>2.0</td>\n",
       "      <td>NaN</td>\n",
       "      <td>NaN</td>\n",
       "      <td>NaN</td>\n",
       "      <td>72.0</td>\n",
       "      <td>100</td>\n",
       "      <td>432</td>\n",
       "      <td>3</td>\n",
       "      <td>7.0</td>\n",
       "      <td>1.098612</td>\n",
       "    </tr>\n",
       "    <tr>\n",
       "      <th>...</th>\n",
       "      <td>...</td>\n",
       "      <td>...</td>\n",
       "      <td>...</td>\n",
       "      <td>...</td>\n",
       "      <td>...</td>\n",
       "      <td>...</td>\n",
       "      <td>...</td>\n",
       "      <td>...</td>\n",
       "      <td>...</td>\n",
       "      <td>...</td>\n",
       "      <td>...</td>\n",
       "      <td>...</td>\n",
       "      <td>...</td>\n",
       "      <td>...</td>\n",
       "      <td>...</td>\n",
       "      <td>...</td>\n",
       "    </tr>\n",
       "    <tr>\n",
       "      <th>474</th>\n",
       "      <td>25</td>\n",
       "      <td>6.0</td>\n",
       "      <td>-0.330948</td>\n",
       "      <td>528.0</td>\n",
       "      <td>0.0</td>\n",
       "      <td>0.0</td>\n",
       "      <td>6.0</td>\n",
       "      <td>NaN</td>\n",
       "      <td>NaN</td>\n",
       "      <td>NaN</td>\n",
       "      <td>140.0</td>\n",
       "      <td>62</td>\n",
       "      <td>645</td>\n",
       "      <td>7</td>\n",
       "      <td>0.0</td>\n",
       "      <td>1.945910</td>\n",
       "    </tr>\n",
       "    <tr>\n",
       "      <th>475</th>\n",
       "      <td>6</td>\n",
       "      <td>12.0</td>\n",
       "      <td>-1.493480</td>\n",
       "      <td>2145.0</td>\n",
       "      <td>0.0</td>\n",
       "      <td>0.0</td>\n",
       "      <td>1.0</td>\n",
       "      <td>NaN</td>\n",
       "      <td>NaN</td>\n",
       "      <td>NaN</td>\n",
       "      <td>416.0</td>\n",
       "      <td>45</td>\n",
       "      <td>714</td>\n",
       "      <td>2</td>\n",
       "      <td>0.0</td>\n",
       "      <td>0.693147</td>\n",
       "    </tr>\n",
       "    <tr>\n",
       "      <th>476</th>\n",
       "      <td>24</td>\n",
       "      <td>17.0</td>\n",
       "      <td>-1.466320</td>\n",
       "      <td>551.0</td>\n",
       "      <td>0.0</td>\n",
       "      <td>0.0</td>\n",
       "      <td>4.0</td>\n",
       "      <td>NaN</td>\n",
       "      <td>NaN</td>\n",
       "      <td>NaN</td>\n",
       "      <td>146.0</td>\n",
       "      <td>84</td>\n",
       "      <td>0</td>\n",
       "      <td>5</td>\n",
       "      <td>0.0</td>\n",
       "      <td>1.609438</td>\n",
       "    </tr>\n",
       "    <tr>\n",
       "      <th>477</th>\n",
       "      <td>24</td>\n",
       "      <td>6.0</td>\n",
       "      <td>-1.556737</td>\n",
       "      <td>551.0</td>\n",
       "      <td>0.0</td>\n",
       "      <td>0.0</td>\n",
       "      <td>0.0</td>\n",
       "      <td>NaN</td>\n",
       "      <td>NaN</td>\n",
       "      <td>NaN</td>\n",
       "      <td>146.0</td>\n",
       "      <td>56</td>\n",
       "      <td>0</td>\n",
       "      <td>1</td>\n",
       "      <td>0.0</td>\n",
       "      <td>0.000000</td>\n",
       "    </tr>\n",
       "    <tr>\n",
       "      <th>478</th>\n",
       "      <td>23</td>\n",
       "      <td>9.0</td>\n",
       "      <td>-0.283168</td>\n",
       "      <td>602.0</td>\n",
       "      <td>0.0</td>\n",
       "      <td>0.0</td>\n",
       "      <td>0.0</td>\n",
       "      <td>NaN</td>\n",
       "      <td>NaN</td>\n",
       "      <td>NaN</td>\n",
       "      <td>155.0</td>\n",
       "      <td>90</td>\n",
       "      <td>476</td>\n",
       "      <td>1</td>\n",
       "      <td>0.0</td>\n",
       "      <td>0.000000</td>\n",
       "    </tr>\n",
       "  </tbody>\n",
       "</table>\n",
       "<p>479 rows × 16 columns</p>\n",
       "</div>"
      ],
      "text/plain": [
       "     recency  topic_rank  diversity  authors_mean_rank  authors_mean_hindex  \\\n",
       "0         16         1.0  -0.425436              500.0                  1.0   \n",
       "1          8         7.0  -0.571967              134.0                  1.0   \n",
       "2         15        19.0  -0.859644              235.0                  1.0   \n",
       "3          6         4.0  -1.054999             1124.0                  1.0   \n",
       "4         14         2.0  -0.476697              346.0                  1.0   \n",
       "..       ...         ...        ...                ...                  ...   \n",
       "474       25         6.0  -0.330948              528.0                  0.0   \n",
       "475        6        12.0  -1.493480             2145.0                  0.0   \n",
       "476       24        17.0  -1.466320              551.0                  0.0   \n",
       "477       24         6.0  -1.556737              551.0                  0.0   \n",
       "478       23         9.0  -0.283168              602.0                  0.0   \n",
       "\n",
       "     authors_mean_gindex  authors_mean_sociality  authors_mean_pagerank  \\\n",
       "0                    1.0                     6.0                    NaN   \n",
       "1                    1.0                     6.0                    NaN   \n",
       "2                    1.0                     5.0                    NaN   \n",
       "3                    1.0                    10.0                    NaN   \n",
       "4                    1.0                     2.0                    NaN   \n",
       "..                   ...                     ...                    ...   \n",
       "474                  0.0                     6.0                    NaN   \n",
       "475                  0.0                     1.0                    NaN   \n",
       "476                  0.0                     4.0                    NaN   \n",
       "477                  0.0                     0.0                    NaN   \n",
       "478                  0.0                     0.0                    NaN   \n",
       "\n",
       "     authors_mean_productivity  journal_pagerank  journal_rank  title_len  \\\n",
       "0                          NaN               NaN         101.0         66   \n",
       "1                          NaN               NaN          24.0         59   \n",
       "2                          NaN               NaN          49.0        169   \n",
       "3                          NaN               NaN         185.0        130   \n",
       "4                          NaN               NaN          72.0        100   \n",
       "..                         ...               ...           ...        ...   \n",
       "474                        NaN               NaN         140.0         62   \n",
       "475                        NaN               NaN         416.0         45   \n",
       "476                        NaN               NaN         146.0         84   \n",
       "477                        NaN               NaN         146.0         56   \n",
       "478                        NaN               NaN         155.0         90   \n",
       "\n",
       "     abstract_len  n_authors    c5  log_authors_mean_sociality  \n",
       "0            1653          7   1.0                    1.945910  \n",
       "1            1527          7  32.0                    1.945910  \n",
       "2            1554          6   5.0                    1.791759  \n",
       "3            2121         11   7.0                    2.397895  \n",
       "4             432          3   7.0                    1.098612  \n",
       "..            ...        ...   ...                         ...  \n",
       "474           645          7   0.0                    1.945910  \n",
       "475           714          2   0.0                    0.693147  \n",
       "476             0          5   0.0                    1.609438  \n",
       "477             0          1   0.0                    0.000000  \n",
       "478           476          1   0.0                    0.000000  \n",
       "\n",
       "[479 rows x 16 columns]"
      ]
     },
     "execution_count": 3,
     "metadata": {},
     "output_type": "execute_result"
    }
   ],
   "source": [
    "DATA"
   ]
  },
  {
   "cell_type": "code",
   "execution_count": 4,
   "metadata": {
    "colab": {
     "base_uri": "https://localhost:8080/"
    },
    "id": "6yWx3xujylPW",
    "outputId": "59b8cf25-71f9-4d3a-fc64-d440237535f2"
   },
   "outputs": [
    {
     "name": "stdout",
     "output_type": "stream",
     "text": [
      "<class 'pandas.core.frame.DataFrame'>\n",
      "RangeIndex: 479 entries, 0 to 478\n",
      "Data columns (total 16 columns):\n",
      " #   Column                      Non-Null Count  Dtype  \n",
      "---  ------                      --------------  -----  \n",
      " 0   recency                     479 non-null    int64  \n",
      " 1   topic_rank                  479 non-null    float64\n",
      " 2   diversity                   479 non-null    float64\n",
      " 3   authors_mean_rank           473 non-null    float64\n",
      " 4   authors_mean_hindex         473 non-null    float64\n",
      " 5   authors_mean_gindex         473 non-null    float64\n",
      " 6   authors_mean_sociality      473 non-null    float64\n",
      " 7   authors_mean_pagerank       0 non-null      float64\n",
      " 8   authors_mean_productivity   0 non-null      float64\n",
      " 9   journal_pagerank            0 non-null      float64\n",
      " 10  journal_rank                440 non-null    float64\n",
      " 11  title_len                   479 non-null    int64  \n",
      " 12  abstract_len                479 non-null    int64  \n",
      " 13  n_authors                   479 non-null    int64  \n",
      " 14  c5                          479 non-null    float64\n",
      " 15  log_authors_mean_sociality  473 non-null    float64\n",
      "dtypes: float64(12), int64(4)\n",
      "memory usage: 60.0 KB\n"
     ]
    }
   ],
   "source": [
    "DATA.info()"
   ]
  },
  {
   "cell_type": "code",
   "execution_count": 5,
   "metadata": {
    "colab": {
     "base_uri": "https://localhost:8080/"
    },
    "id": "CYb8SgDUBygu",
    "outputId": "87f2c718-b525-4898-ddd1-cc4f56f54904"
   },
   "outputs": [
    {
     "data": {
      "text/plain": [
       "recency                         0\n",
       "topic_rank                      0\n",
       "diversity                       0\n",
       "authors_mean_rank               6\n",
       "authors_mean_hindex             6\n",
       "authors_mean_gindex             6\n",
       "authors_mean_sociality          6\n",
       "authors_mean_pagerank         479\n",
       "authors_mean_productivity     479\n",
       "journal_pagerank              479\n",
       "journal_rank                   39\n",
       "title_len                       0\n",
       "abstract_len                    0\n",
       "n_authors                       0\n",
       "c5                              0\n",
       "log_authors_mean_sociality      6\n",
       "dtype: int64"
      ]
     },
     "execution_count": 5,
     "metadata": {},
     "output_type": "execute_result"
    }
   ],
   "source": [
    "# To  check the null values in the data\n",
    "DATA.isnull().sum()"
   ]
  },
  {
   "cell_type": "code",
   "execution_count": 6,
   "metadata": {
    "id": "uQCUN2wJvdtf"
   },
   "outputs": [],
   "source": [
    "cols_to_drop = ['authors_mean_pagerank', 'authors_mean_productivity', 'journal_pagerank', 'authors_mean_sociality']"
   ]
  },
  {
   "cell_type": "code",
   "execution_count": 7,
   "metadata": {
    "id": "Ip39Vusd3PVS"
   },
   "outputs": [],
   "source": [
    "df = DATA.drop(cols_to_drop, axis=1)"
   ]
  },
  {
   "cell_type": "code",
   "execution_count": 8,
   "metadata": {
    "colab": {
     "base_uri": "https://localhost:8080/",
     "height": 162
    },
    "id": "4oL7L0-8CJIe",
    "outputId": "6c2efbf2-7475-41e2-a21a-fbeb64aadf98"
   },
   "outputs": [
    {
     "data": {
      "text/html": [
       "<div>\n",
       "<style scoped>\n",
       "    .dataframe tbody tr th:only-of-type {\n",
       "        vertical-align: middle;\n",
       "    }\n",
       "\n",
       "    .dataframe tbody tr th {\n",
       "        vertical-align: top;\n",
       "    }\n",
       "\n",
       "    .dataframe thead th {\n",
       "        text-align: right;\n",
       "    }\n",
       "</style>\n",
       "<table border=\"1\" class=\"dataframe\">\n",
       "  <thead>\n",
       "    <tr style=\"text-align: right;\">\n",
       "      <th></th>\n",
       "      <th>recency</th>\n",
       "      <th>topic_rank</th>\n",
       "      <th>diversity</th>\n",
       "      <th>authors_mean_rank</th>\n",
       "      <th>authors_mean_hindex</th>\n",
       "      <th>authors_mean_gindex</th>\n",
       "      <th>journal_rank</th>\n",
       "      <th>title_len</th>\n",
       "      <th>abstract_len</th>\n",
       "      <th>n_authors</th>\n",
       "      <th>c5</th>\n",
       "      <th>log_authors_mean_sociality</th>\n",
       "    </tr>\n",
       "  </thead>\n",
       "  <tbody>\n",
       "    <tr>\n",
       "      <th>0</th>\n",
       "      <td>16</td>\n",
       "      <td>1.0</td>\n",
       "      <td>-0.425436</td>\n",
       "      <td>500.0</td>\n",
       "      <td>1.0</td>\n",
       "      <td>1.0</td>\n",
       "      <td>101.0</td>\n",
       "      <td>66</td>\n",
       "      <td>1653</td>\n",
       "      <td>7</td>\n",
       "      <td>1.0</td>\n",
       "      <td>1.945910</td>\n",
       "    </tr>\n",
       "    <tr>\n",
       "      <th>1</th>\n",
       "      <td>8</td>\n",
       "      <td>7.0</td>\n",
       "      <td>-0.571967</td>\n",
       "      <td>134.0</td>\n",
       "      <td>1.0</td>\n",
       "      <td>1.0</td>\n",
       "      <td>24.0</td>\n",
       "      <td>59</td>\n",
       "      <td>1527</td>\n",
       "      <td>7</td>\n",
       "      <td>32.0</td>\n",
       "      <td>1.945910</td>\n",
       "    </tr>\n",
       "    <tr>\n",
       "      <th>2</th>\n",
       "      <td>15</td>\n",
       "      <td>19.0</td>\n",
       "      <td>-0.859644</td>\n",
       "      <td>235.0</td>\n",
       "      <td>1.0</td>\n",
       "      <td>1.0</td>\n",
       "      <td>49.0</td>\n",
       "      <td>169</td>\n",
       "      <td>1554</td>\n",
       "      <td>6</td>\n",
       "      <td>5.0</td>\n",
       "      <td>1.791759</td>\n",
       "    </tr>\n",
       "  </tbody>\n",
       "</table>\n",
       "</div>"
      ],
      "text/plain": [
       "   recency  topic_rank  diversity  authors_mean_rank  authors_mean_hindex  \\\n",
       "0       16         1.0  -0.425436              500.0                  1.0   \n",
       "1        8         7.0  -0.571967              134.0                  1.0   \n",
       "2       15        19.0  -0.859644              235.0                  1.0   \n",
       "\n",
       "   authors_mean_gindex  journal_rank  title_len  abstract_len  n_authors  \\\n",
       "0                  1.0         101.0         66          1653          7   \n",
       "1                  1.0          24.0         59          1527          7   \n",
       "2                  1.0          49.0        169          1554          6   \n",
       "\n",
       "     c5  log_authors_mean_sociality  \n",
       "0   1.0                    1.945910  \n",
       "1  32.0                    1.945910  \n",
       "2   5.0                    1.791759  "
      ]
     },
     "execution_count": 8,
     "metadata": {},
     "output_type": "execute_result"
    }
   ],
   "source": [
    "df.head(3)"
   ]
  },
  {
   "cell_type": "code",
   "execution_count": 9,
   "metadata": {
    "colab": {
     "base_uri": "https://localhost:8080/"
    },
    "id": "g8yuw-UnwVBg",
    "outputId": "832aeaf8-017d-45c9-88ee-ff4b2c2967f2"
   },
   "outputs": [
    {
     "name": "stdout",
     "output_type": "stream",
     "text": [
      "<class 'pandas.core.frame.DataFrame'>\n",
      "RangeIndex: 479 entries, 0 to 478\n",
      "Data columns (total 12 columns):\n",
      " #   Column                      Non-Null Count  Dtype  \n",
      "---  ------                      --------------  -----  \n",
      " 0   recency                     479 non-null    int64  \n",
      " 1   topic_rank                  479 non-null    float64\n",
      " 2   diversity                   479 non-null    float64\n",
      " 3   authors_mean_rank           473 non-null    float64\n",
      " 4   authors_mean_hindex         473 non-null    float64\n",
      " 5   authors_mean_gindex         473 non-null    float64\n",
      " 6   journal_rank                440 non-null    float64\n",
      " 7   title_len                   479 non-null    int64  \n",
      " 8   abstract_len                479 non-null    int64  \n",
      " 9   n_authors                   479 non-null    int64  \n",
      " 10  c5                          479 non-null    float64\n",
      " 11  log_authors_mean_sociality  473 non-null    float64\n",
      "dtypes: float64(8), int64(4)\n",
      "memory usage: 45.0 KB\n"
     ]
    }
   ],
   "source": [
    "df.info()"
   ]
  },
  {
   "cell_type": "code",
   "execution_count": 10,
   "metadata": {
    "colab": {
     "base_uri": "https://localhost:8080/",
     "height": 414
    },
    "id": "HQT3dE-Fwp4I",
    "outputId": "7be23470-97fc-41a3-bef6-ee9e6b70fd9e"
   },
   "outputs": [
    {
     "data": {
      "text/plain": [
       "<AxesSubplot:>"
      ]
     },
     "execution_count": 10,
     "metadata": {},
     "output_type": "execute_result"
    },
    {
     "data": {
      "image/png": "[encoded data removed]",
      "text/plain": [
       "<Figure size 432x288 with 2 Axes>"
      ]
     },
     "metadata": {
      "needs_background": "light"
     },
     "output_type": "display_data"
    }
   ],
   "source": [
    "sb.heatmap(df.isnull())"
   ]
  },
  {
   "cell_type": "code",
   "execution_count": 11,
   "metadata": {
    "colab": {
     "base_uri": "https://localhost:8080/",
     "height": 317
    },
    "id": "AQhbKFnXCUFZ",
    "outputId": "ee8c62be-2f28-4cf0-bd2f-ff2eec596731"
   },
   "outputs": [
    {
     "data": {
      "text/html": [
       "<div>\n",
       "<style scoped>\n",
       "    .dataframe tbody tr th:only-of-type {\n",
       "        vertical-align: middle;\n",
       "    }\n",
       "\n",
       "    .dataframe tbody tr th {\n",
       "        vertical-align: top;\n",
       "    }\n",
       "\n",
       "    .dataframe thead th {\n",
       "        text-align: right;\n",
       "    }\n",
       "</style>\n",
       "<table border=\"1\" class=\"dataframe\">\n",
       "  <thead>\n",
       "    <tr style=\"text-align: right;\">\n",
       "      <th></th>\n",
       "      <th>recency</th>\n",
       "      <th>topic_rank</th>\n",
       "      <th>diversity</th>\n",
       "      <th>authors_mean_rank</th>\n",
       "      <th>authors_mean_hindex</th>\n",
       "      <th>authors_mean_gindex</th>\n",
       "      <th>journal_rank</th>\n",
       "      <th>title_len</th>\n",
       "      <th>abstract_len</th>\n",
       "      <th>n_authors</th>\n",
       "      <th>c5</th>\n",
       "      <th>log_authors_mean_sociality</th>\n",
       "    </tr>\n",
       "  </thead>\n",
       "  <tbody>\n",
       "    <tr>\n",
       "      <th>count</th>\n",
       "      <td>479.000000</td>\n",
       "      <td>479.000000</td>\n",
       "      <td>479.000000</td>\n",
       "      <td>473.000000</td>\n",
       "      <td>473.000000</td>\n",
       "      <td>473.000000</td>\n",
       "      <td>440.000000</td>\n",
       "      <td>479.000000</td>\n",
       "      <td>479.000000</td>\n",
       "      <td>479.000000</td>\n",
       "      <td>479.000000</td>\n",
       "      <td>473.000000</td>\n",
       "    </tr>\n",
       "    <tr>\n",
       "      <th>mean</th>\n",
       "      <td>13.419624</td>\n",
       "      <td>10.125261</td>\n",
       "      <td>-0.675481</td>\n",
       "      <td>741.769615</td>\n",
       "      <td>0.844051</td>\n",
       "      <td>0.844668</td>\n",
       "      <td>146.184091</td>\n",
       "      <td>94.983299</td>\n",
       "      <td>1162.283925</td>\n",
       "      <td>4.369520</td>\n",
       "      <td>6.713987</td>\n",
       "      <td>1.264066</td>\n",
       "    </tr>\n",
       "    <tr>\n",
       "      <th>std</th>\n",
       "      <td>5.860415</td>\n",
       "      <td>5.748655</td>\n",
       "      <td>0.606013</td>\n",
       "      <td>581.948922</td>\n",
       "      <td>0.363961</td>\n",
       "      <td>0.364351</td>\n",
       "      <td>111.398299</td>\n",
       "      <td>38.524238</td>\n",
       "      <td>657.597003</td>\n",
       "      <td>2.800775</td>\n",
       "      <td>12.547968</td>\n",
       "      <td>0.703466</td>\n",
       "    </tr>\n",
       "    <tr>\n",
       "      <th>min</th>\n",
       "      <td>5.000000</td>\n",
       "      <td>1.000000</td>\n",
       "      <td>-2.995732</td>\n",
       "      <td>1.000000</td>\n",
       "      <td>0.000000</td>\n",
       "      <td>0.000000</td>\n",
       "      <td>1.000000</td>\n",
       "      <td>16.000000</td>\n",
       "      <td>0.000000</td>\n",
       "      <td>1.000000</td>\n",
       "      <td>0.000000</td>\n",
       "      <td>0.000000</td>\n",
       "    </tr>\n",
       "    <tr>\n",
       "      <th>25%</th>\n",
       "      <td>8.000000</td>\n",
       "      <td>5.000000</td>\n",
       "      <td>-1.087146</td>\n",
       "      <td>265.000000</td>\n",
       "      <td>1.000000</td>\n",
       "      <td>1.000000</td>\n",
       "      <td>53.750000</td>\n",
       "      <td>68.000000</td>\n",
       "      <td>758.500000</td>\n",
       "      <td>2.000000</td>\n",
       "      <td>0.000000</td>\n",
       "      <td>0.693147</td>\n",
       "    </tr>\n",
       "    <tr>\n",
       "      <th>50%</th>\n",
       "      <td>13.000000</td>\n",
       "      <td>10.000000</td>\n",
       "      <td>-0.526332</td>\n",
       "      <td>596.000000</td>\n",
       "      <td>1.000000</td>\n",
       "      <td>1.000000</td>\n",
       "      <td>122.000000</td>\n",
       "      <td>91.000000</td>\n",
       "      <td>1197.000000</td>\n",
       "      <td>4.000000</td>\n",
       "      <td>2.000000</td>\n",
       "      <td>1.386294</td>\n",
       "    </tr>\n",
       "    <tr>\n",
       "      <th>75%</th>\n",
       "      <td>18.000000</td>\n",
       "      <td>15.000000</td>\n",
       "      <td>-0.150066</td>\n",
       "      <td>1141.000000</td>\n",
       "      <td>1.000000</td>\n",
       "      <td>1.000000</td>\n",
       "      <td>216.750000</td>\n",
       "      <td>116.500000</td>\n",
       "      <td>1587.500000</td>\n",
       "      <td>6.000000</td>\n",
       "      <td>8.000000</td>\n",
       "      <td>1.791759</td>\n",
       "    </tr>\n",
       "    <tr>\n",
       "      <th>max</th>\n",
       "      <td>25.000000</td>\n",
       "      <td>20.000000</td>\n",
       "      <td>-0.056685</td>\n",
       "      <td>2336.000000</td>\n",
       "      <td>1.125000</td>\n",
       "      <td>1.166667</td>\n",
       "      <td>436.000000</td>\n",
       "      <td>279.000000</td>\n",
       "      <td>3655.000000</td>\n",
       "      <td>16.000000</td>\n",
       "      <td>154.000000</td>\n",
       "      <td>2.772589</td>\n",
       "    </tr>\n",
       "  </tbody>\n",
       "</table>\n",
       "</div>"
      ],
      "text/plain": [
       "          recency  topic_rank   diversity  authors_mean_rank  \\\n",
       "count  479.000000  479.000000  479.000000         473.000000   \n",
       "mean    13.419624   10.125261   -0.675481         741.769615   \n",
       "std      5.860415    5.748655    0.606013         581.948922   \n",
       "min      5.000000    1.000000   -2.995732           1.000000   \n",
       "25%      8.000000    5.000000   -1.087146         265.000000   \n",
       "50%     13.000000   10.000000   -0.526332         596.000000   \n",
       "75%     18.000000   15.000000   -0.150066        1141.000000   \n",
       "max     25.000000   20.000000   -0.056685        2336.000000   \n",
       "\n",
       "       authors_mean_hindex  authors_mean_gindex  journal_rank   title_len  \\\n",
       "count           473.000000           473.000000    440.000000  479.000000   \n",
       "mean              0.844051             0.844668    146.184091   94.983299   \n",
       "std               0.363961             0.364351    111.398299   38.524238   \n",
       "min               0.000000             0.000000      1.000000   16.000000   \n",
       "25%               1.000000             1.000000     53.750000   68.000000   \n",
       "50%               1.000000             1.000000    122.000000   91.000000   \n",
       "75%               1.000000             1.000000    216.750000  116.500000   \n",
       "max               1.125000             1.166667    436.000000  279.000000   \n",
       "\n",
       "       abstract_len   n_authors          c5  log_authors_mean_sociality  \n",
       "count    479.000000  479.000000  479.000000                  473.000000  \n",
       "mean    1162.283925    4.369520    6.713987                    1.264066  \n",
       "std      657.597003    2.800775   12.547968                    0.703466  \n",
       "min        0.000000    1.000000    0.000000                    0.000000  \n",
       "25%      758.500000    2.000000    0.000000                    0.693147  \n",
       "50%     1197.000000    4.000000    2.000000                    1.386294  \n",
       "75%     1587.500000    6.000000    8.000000                    1.791759  \n",
       "max     3655.000000   16.000000  154.000000                    2.772589  "
      ]
     },
     "execution_count": 11,
     "metadata": {},
     "output_type": "execute_result"
    }
   ],
   "source": [
    "df.describe()"
   ]
  },
  {
   "cell_type": "code",
   "execution_count": 12,
   "metadata": {
    "id": "N5BpyIOPxSNg"
   },
   "outputs": [],
   "source": [
    "# Replace missing values with the mean of the column\n",
    "df.fillna(df.mean(), inplace = True)"
   ]
  },
  {
   "cell_type": "code",
   "execution_count": 13,
   "metadata": {
    "colab": {
     "base_uri": "https://localhost:8080/",
     "height": 414
    },
    "id": "4c1WKIPTyKfH",
    "outputId": "effa8ed9-85ef-4102-bbd7-aecda68a997e"
   },
   "outputs": [
    {
     "data": {
      "text/plain": [
       "<AxesSubplot:>"
      ]
     },
     "execution_count": 13,
     "metadata": {},
     "output_type": "execute_result"
    },
    {
     "data": {
      "image/png": "[encoded data removed]",
      "text/plain": [
       "<Figure size 432x288 with 2 Axes>"
      ]
     },
     "metadata": {
      "needs_background": "light"
     },
     "output_type": "display_data"
    }
   ],
   "source": [
    "sb.heatmap(df.isnull())"
   ]
  },
  {
   "cell_type": "code",
   "execution_count": 14,
   "metadata": {
    "id": "hiM-bdwEyid2"
   },
   "outputs": [],
   "source": [
    "df = df.dropna()"
   ]
  },
  {
   "cell_type": "code",
   "execution_count": 15,
   "metadata": {
    "colab": {
     "base_uri": "https://localhost:8080/"
    },
    "id": "YlVcnXscypL0",
    "outputId": "d01d2339-311f-4ece-caa5-90b692fc86bd"
   },
   "outputs": [
    {
     "name": "stdout",
     "output_type": "stream",
     "text": [
      "<class 'pandas.core.frame.DataFrame'>\n",
      "Int64Index: 479 entries, 0 to 478\n",
      "Data columns (total 12 columns):\n",
      " #   Column                      Non-Null Count  Dtype  \n",
      "---  ------                      --------------  -----  \n",
      " 0   recency                     479 non-null    int64  \n",
      " 1   topic_rank                  479 non-null    float64\n",
      " 2   diversity                   479 non-null    float64\n",
      " 3   authors_mean_rank           479 non-null    float64\n",
      " 4   authors_mean_hindex         479 non-null    float64\n",
      " 5   authors_mean_gindex         479 non-null    float64\n",
      " 6   journal_rank                479 non-null    float64\n",
      " 7   title_len                   479 non-null    int64  \n",
      " 8   abstract_len                479 non-null    int64  \n",
      " 9   n_authors                   479 non-null    int64  \n",
      " 10  c5                          479 non-null    float64\n",
      " 11  log_authors_mean_sociality  479 non-null    float64\n",
      "dtypes: float64(8), int64(4)\n",
      "memory usage: 48.6 KB\n"
     ]
    }
   ],
   "source": [
    "df.info()"
   ]
  },
  {
   "cell_type": "code",
   "execution_count": 16,
   "metadata": {
    "colab": {
     "base_uri": "https://localhost:8080/",
     "height": 1000
    },
    "id": "FBbh-wVu0czb",
    "outputId": "d2fb5d72-7f43-4dca-8067-5c731ecee60c"
   },
   "outputs": [
    {
     "data": {
      "text/plain": [
       "array([[<AxesSubplot:title={'center':'recency'}>,\n",
       "        <AxesSubplot:title={'center':'topic_rank'}>,\n",
       "        <AxesSubplot:title={'center':'diversity'}>],\n",
       "       [<AxesSubplot:title={'center':'authors_mean_rank'}>,\n",
       "        <AxesSubplot:title={'center':'authors_mean_hindex'}>,\n",
       "        <AxesSubplot:title={'center':'authors_mean_gindex'}>],\n",
       "       [<AxesSubplot:title={'center':'journal_rank'}>,\n",
       "        <AxesSubplot:title={'center':'title_len'}>,\n",
       "        <AxesSubplot:title={'center':'abstract_len'}>],\n",
       "       [<AxesSubplot:title={'center':'n_authors'}>,\n",
       "        <AxesSubplot:title={'center':'c5'}>,\n",
       "        <AxesSubplot:title={'center':'log_authors_mean_sociality'}>]],\n",
       "      dtype=object)"
      ]
     },
     "execution_count": 16,
     "metadata": {},
     "output_type": "execute_result"
    },
    {
     "data": {
      "image/png": "[encoded data removed]",
      "text/plain": [
       "<Figure size 1080x1080 with 12 Axes>"
      ]
     },
     "metadata": {
      "needs_background": "light"
     },
     "output_type": "display_data"
    }
   ],
   "source": [
    "df.hist(figsize=(15, 15))"
   ]
  },
  {
   "cell_type": "code",
   "execution_count": 17,
   "metadata": {
    "id": "1EJRMkRTyOOA"
   },
   "outputs": [],
   "source": [
    "X = df.drop('c5', axis=1)\n",
    "y = df['c5']"
   ]
  },
  {
   "cell_type": "code",
   "execution_count": 18,
   "metadata": {
    "id": "Y5vDPEskt86o"
   },
   "outputs": [],
   "source": [
    "# Split the dataset\n",
    "X_train, X_test, y_train, y_test = train_test_split(X,y,test_size=0.4,random_state=42)"
   ]
  },
  {
   "cell_type": "markdown",
   "metadata": {
    "id": "hsVE0vy2jp5V"
   },
   "source": [
    "Linear Regression"
   ]
  },
  {
   "cell_type": "code",
   "execution_count": 19,
   "metadata": {
    "colab": {
     "base_uri": "https://localhost:8080/"
    },
    "id": "FOxhC8VID09p",
    "outputId": "573c7376-4ffd-48cf-bbb6-c25725b0ac5d"
   },
   "outputs": [
    {
     "data": {
      "text/plain": [
       "0.422811268461996"
      ]
     },
     "execution_count": 19,
     "metadata": {},
     "output_type": "execute_result"
    }
   ],
   "source": [
    "reg = LinearRegression()\n",
    "reg.fit(X_train, y_train)\n",
    "y_pred = reg.predict(X_train)\n",
    "r2_score(y_train, y_pred)"
   ]
  },
  {
   "cell_type": "markdown",
   "metadata": {
    "id": "ssD9Xetzhc-j"
   },
   "source": [
    "GradientBoostingRegressor"
   ]
  },
  {
   "cell_type": "code",
   "execution_count": 20,
   "metadata": {
    "colab": {
     "base_uri": "https://localhost:8080/"
    },
    "id": "J4UlJwwh4tVZ",
    "outputId": "dbd88ef5-4f77-4e65-ac31-ab5f605294b6"
   },
   "outputs": [
    {
     "data": {
      "text/plain": [
       "0.98953194808459"
      ]
     },
     "execution_count": 20,
     "metadata": {},
     "output_type": "execute_result"
    }
   ],
   "source": [
    "gbr = GradientBoostingRegressor()\n",
    "gbr.fit(X_train, y_train)\n",
    "y_pred = gbr.predict(X_train)\n",
    "r2_score(y_train, gbr.predict(X_train))"
   ]
  },
  {
   "cell_type": "markdown",
   "metadata": {
    "id": "iWYoXRdM1Qzz"
   },
   "source": [
    "RandomForestRegressor"
   ]
  },
  {
   "cell_type": "code",
   "execution_count": 21,
   "metadata": {
    "colab": {
     "base_uri": "https://localhost:8080/"
    },
    "id": "k9IdmLFZzSht",
    "outputId": "70b36e6d-9135-44a6-dddc-c2fa02863150"
   },
   "outputs": [
    {
     "data": {
      "text/plain": [
       "0.6198154072286512"
      ]
     },
     "execution_count": 21,
     "metadata": {},
     "output_type": "execute_result"
    }
   ],
   "source": [
    "rsg = RandomForestRegressor()\n",
    "rsg.fit(X_train,y_train)\n",
    "y_pred = rsg.predict(X_test)\n",
    "r2_score(y_test,y_pred)"
   ]
  }
 ],
 "metadata": {
  "colab": {
   "collapsed_sections": [],
   "name": "jetbrainsinternship.ipynb",
   "provenance": []
  },
  "kernelspec": {
   "display_name": "Python 3",
   "language": "python",
   "name": "python3"
  },
  "language_info": {
   "codemirror_mode": {
    "name": "ipython",
    "version": 3
   },
   "file_extension": ".py",
   "mimetype": "text/x-python",
   "name": "python",
   "nbconvert_exporter": "python",
   "pygments_lexer": "ipython3",
   "version": "3.8.5"
  }
 },
 "nbformat": 4,
 "nbformat_minor": 1
}
